{
 "cells": [
  {
   "cell_type": "markdown",
   "metadata": {},
   "source": [
    "                                                    FAKE DATASET"
   ]
  },
  {
   "cell_type": "markdown",
   "metadata": {},
   "source": [
    "Importing Libraries and Data"
   ]
  },
  {
   "cell_type": "code",
   "execution_count": 1,
   "metadata": {},
   "outputs": [],
   "source": [
    "import numpy as np \n",
    "import pandas as pd \n",
    "import re\n",
    "import string"
   ]
  },
  {
   "cell_type": "code",
   "execution_count": 2,
   "metadata": {},
   "outputs": [
    {
     "data": {
      "text/html": [
       "<div>\n",
       "<style scoped>\n",
       "    .dataframe tbody tr th:only-of-type {\n",
       "        vertical-align: middle;\n",
       "    }\n",
       "\n",
       "    .dataframe tbody tr th {\n",
       "        vertical-align: top;\n",
       "    }\n",
       "\n",
       "    .dataframe thead th {\n",
       "        text-align: right;\n",
       "    }\n",
       "</style>\n",
       "<table border=\"1\" class=\"dataframe\">\n",
       "  <thead>\n",
       "    <tr style=\"text-align: right;\">\n",
       "      <th></th>\n",
       "      <th>title</th>\n",
       "      <th>text</th>\n",
       "      <th>subject</th>\n",
       "      <th>date</th>\n",
       "    </tr>\n",
       "  </thead>\n",
       "  <tbody>\n",
       "    <tr>\n",
       "      <th>0</th>\n",
       "      <td>Donald Trump Sends Out Embarrassing New Year’...</td>\n",
       "      <td>Donald Trump just couldn t wish all Americans ...</td>\n",
       "      <td>News</td>\n",
       "      <td>December 31, 2017</td>\n",
       "    </tr>\n",
       "    <tr>\n",
       "      <th>1</th>\n",
       "      <td>Drunk Bragging Trump Staffer Started Russian ...</td>\n",
       "      <td>House Intelligence Committee Chairman Devin Nu...</td>\n",
       "      <td>News</td>\n",
       "      <td>December 31, 2017</td>\n",
       "    </tr>\n",
       "    <tr>\n",
       "      <th>2</th>\n",
       "      <td>Sheriff David Clarke Becomes An Internet Joke...</td>\n",
       "      <td>On Friday, it was revealed that former Milwauk...</td>\n",
       "      <td>News</td>\n",
       "      <td>December 30, 2017</td>\n",
       "    </tr>\n",
       "    <tr>\n",
       "      <th>3</th>\n",
       "      <td>Trump Is So Obsessed He Even Has Obama’s Name...</td>\n",
       "      <td>On Christmas day, Donald Trump announced that ...</td>\n",
       "      <td>News</td>\n",
       "      <td>December 29, 2017</td>\n",
       "    </tr>\n",
       "    <tr>\n",
       "      <th>4</th>\n",
       "      <td>Pope Francis Just Called Out Donald Trump Dur...</td>\n",
       "      <td>Pope Francis used his annual Christmas Day mes...</td>\n",
       "      <td>News</td>\n",
       "      <td>December 25, 2017</td>\n",
       "    </tr>\n",
       "  </tbody>\n",
       "</table>\n",
       "</div>"
      ],
      "text/plain": [
       "                                               title  \\\n",
       "0   Donald Trump Sends Out Embarrassing New Year’...   \n",
       "1   Drunk Bragging Trump Staffer Started Russian ...   \n",
       "2   Sheriff David Clarke Becomes An Internet Joke...   \n",
       "3   Trump Is So Obsessed He Even Has Obama’s Name...   \n",
       "4   Pope Francis Just Called Out Donald Trump Dur...   \n",
       "\n",
       "                                                text subject  \\\n",
       "0  Donald Trump just couldn t wish all Americans ...    News   \n",
       "1  House Intelligence Committee Chairman Devin Nu...    News   \n",
       "2  On Friday, it was revealed that former Milwauk...    News   \n",
       "3  On Christmas day, Donald Trump announced that ...    News   \n",
       "4  Pope Francis used his annual Christmas Day mes...    News   \n",
       "\n",
       "                date  \n",
       "0  December 31, 2017  \n",
       "1  December 31, 2017  \n",
       "2  December 30, 2017  \n",
       "3  December 29, 2017  \n",
       "4  December 25, 2017  "
      ]
     },
     "execution_count": 2,
     "metadata": {},
     "output_type": "execute_result"
    }
   ],
   "source": [
    "fakedata = pd.read_csv('Fake.csv')\n",
    "fakedata.head()"
   ]
  },
  {
   "cell_type": "markdown",
   "metadata": {},
   "source": [
    "                                                    FEATURE EXTRACTION"
   ]
  },
  {
   "cell_type": "markdown",
   "metadata": {},
   "source": [
    "NUMBER OF CHARACTERS, WORDS, WORD-LENGTH, STOP WORDS, DIGITS, NON-ALPHANUMERIC, UPPERCASE AND LOWERCASE LETTERS"
   ]
  },
  {
   "cell_type": "code",
   "execution_count": 11,
   "metadata": {},
   "outputs": [
    {
     "name": "stdout",
     "output_type": "stream",
     "text": [
      "Number of Char (Minimum):title              \\r\\r\\r\\r\\r\\r\\r\\nDonald Trump Gets His A** Hand...\n",
      "text                                                                \n",
      "subject                                              Government News\n",
      "date                                                       14-Feb-18\n",
      "number_of_char                                                     1\n",
      "number_of_words                                                    1\n",
      "word_length                                                        0\n",
      "dtype: object\n",
      "Number of Char (Maximum): number_of_char    51794\n",
      "dtype: int64\n",
      "Number of Char (Average): 2547.396235254035\n"
     ]
    }
   ],
   "source": [
    "fakedata['number_of_char'] = fakedata['text'].str.len()\n",
    "fakedata[['text','number_of_char']].head()\n",
    "print('Number of Char (Minimum):' + str(np.min(fakedata[fakedata['number_of_char'] > 0])));\n",
    "print('Number of Char (Maximum): ' + str(np.max(fakedata[['number_of_char']])));\n",
    "print('Number of Char (Average): ' + str(np.average(fakedata[['number_of_char']])));"
   ]
  },
  {
   "cell_type": "code",
   "execution_count": 12,
   "metadata": {},
   "outputs": [
    {
     "name": "stdout",
     "output_type": "stream",
     "text": [
      "Number of Words (Minimum):title              \\r\\r\\r\\r\\r\\r\\r\\nDonald Trump Gets His A** Hand...\n",
      "text                                                                \n",
      "subject                                              Government News\n",
      "date                                                       14-Feb-18\n",
      "number_of_char                                                     1\n",
      "number_of_words                                                    1\n",
      "word_length                                                        0\n",
      "dtype: object\n",
      "Number of Words (Maximum):number_of_words    8436\n",
      "dtype: int64\n",
      "Number of Words (Average):435.23721306588305\n"
     ]
    }
   ],
   "source": [
    "fakedata['number_of_words'] = fakedata['text'].apply(lambda x: len(str(x).split(\" \")))\n",
    "fakedata[['text','number_of_words']].head()\n",
    "print('Number of Words (Minimum):' + str(np.min(fakedata[fakedata['number_of_words'] >0])));\n",
    "print('Number of Words (Maximum):' + str(np.max(fakedata[['number_of_words']])));\n",
    "print('Number of Words (Average):' + str(np.average(fakedata[['number_of_words']])));"
   ]
  },
  {
   "cell_type": "code",
   "execution_count": 13,
   "metadata": {},
   "outputs": [],
   "source": [
    "def avg_word_converter(sentence):\n",
    "    words = sentence.split()\n",
    "    if (len(words)==0): return 0\n",
    "    return (sum(len(word) for word in words)/len(words))"
   ]
  },
  {
   "cell_type": "code",
   "execution_count": 24,
   "metadata": {},
   "outputs": [
    {
     "name": "stdout",
     "output_type": "stream",
     "text": [
      "Length of Words (Minimum): title                  \\r\\r\\r\\r\\r\\r\\r\\nDonald Trump Gets His A** Hand...\n",
      "text                       (Welcome) to America We hope you enjoy our...\n",
      "subject                                                  Government News\n",
      "date                                                           14-Feb-18\n",
      "number_of_char                                                         5\n",
      "number_of_words                                                        1\n",
      "word_length                                                         2.25\n",
      "number_of_numbers                                                      0\n",
      "number_of_lowercase                                                    0\n",
      "non_alp                                                                0\n",
      "number_of_uppercase                                                    0\n",
      "dtype: object\n",
      "Length of Words (Maximum): word_length    149.0\n",
      "dtype: float64\n",
      "Length of Words (Average): 5.0124096724459335\n"
     ]
    }
   ],
   "source": [
    "fakedata['word_length'] = fakedata['text'].apply(lambda x: avg_word_converter(x))\n",
    "fakedata[['text','word_length']].head()\n",
    "print('Length of Words (Minimum): ' + str(np.min(fakedata[fakedata['word_length'] > 0])));\n",
    "print('Length of Words (Maximum): ' + str(np.max(fakedata[['word_length']])));\n",
    "print('Length of Words (Average): ' + str(np.average(fakedata[['word_length']])));"
   ]
  },
  {
   "cell_type": "code",
   "execution_count": 19,
   "metadata": {},
   "outputs": [
    {
     "name": "stdout",
     "output_type": "stream",
     "text": [
      "Number of Numbers (Minimum):title                  \\r\\r\\r\\r\\r\\r\\r\\nEx-GOP Congressman Shreds Fell...\n",
      "text                       (Welcome) to America We hope you enjoy our...\n",
      "subject                                                  Government News\n",
      "date                                                           14-Feb-18\n",
      "number_of_char                                                        46\n",
      "number_of_words                                                        9\n",
      "word_length                                                          3.6\n",
      "number_of_numbers                                                      1\n",
      "number_of_lowercase                                                    0\n",
      "dtype: object\n",
      "Number of Numbers (Maximum): number_of_numbers    118\n",
      "dtype: int64\n",
      "Number of Numbers (Average): 1.6966057663642946\n"
     ]
    }
   ],
   "source": [
    "fakedata['number_of_numbers'] = fakedata['text'].apply(lambda x: len([x for x in x.split() if x.isdigit()]))\n",
    "fakedata[['text','number_of_numbers']].head()\n",
    "print('Number of Numbers (Minimum):' + str(np.min(fakedata[fakedata['number_of_numbers'] > 0])));\n",
    "print('Number of Numbers (Maximum): ' + str(np.max(fakedata[['number_of_numbers']])));\n",
    "print('Number of Numbers (Average): ' + str(np.average(fakedata[['number_of_numbers']])));"
   ]
  },
  {
   "cell_type": "code",
   "execution_count": 16,
   "metadata": {},
   "outputs": [],
   "source": [
    "def find_nonalp(text):\n",
    "    line = re.findall(\"[^A-Za-z0-9 ]\",text)\n",
    "    return line"
   ]
  },
  {
   "cell_type": "code",
   "execution_count": 20,
   "metadata": {},
   "outputs": [
    {
     "name": "stdout",
     "output_type": "stream",
     "text": [
      "Number of NonAlphabets (Minimum):title                  \\r\\r\\r\\r\\r\\r\\r\\nDonald Trump Gets His A** Hand...\n",
      "text                       (Welcome) to America We hope you enjoy our...\n",
      "subject                                                  Government News\n",
      "date                                                           14-Feb-18\n",
      "number_of_char                                                         5\n",
      "number_of_words                                                        1\n",
      "word_length                                                         2.25\n",
      "number_of_numbers                                                      0\n",
      "number_of_lowercase                                                    0\n",
      "non_alp                                                                1\n",
      "dtype: object\n",
      "Number of NonAlphabets (Maximum): non_alp    7295\n",
      "dtype: int64\n",
      "Number of NonAlphabets (Average): 59.078616753971296\n"
     ]
    }
   ],
   "source": [
    "fakedata['non_alp']=fakedata['text'].apply(lambda x: len(find_nonalp(x)))\n",
    "fakedata[['text', 'non_alp']].head()\n",
    "print('Number of NonAlphabets (Minimum):' + str(np.min(fakedata[fakedata['non_alp'] > 0])));\n",
    "print('Number of NonAlphabets (Maximum): ' + str(np.max(fakedata[['non_alp']])));\n",
    "print('Number of NonAlphabets (Average): ' + str(np.average(fakedata[['non_alp']])));"
   ]
  },
  {
   "cell_type": "code",
   "execution_count": 18,
   "metadata": {},
   "outputs": [
    {
     "name": "stdout",
     "output_type": "stream",
     "text": [
      "Number of Lowercase (Minimum):title                  \\r\\r\\r\\r\\r\\r\\r\\nDonald Trump Gets His A** Hand...\n",
      "text                       (Welcome) to America We hope you enjoy our...\n",
      "subject                                                  Government News\n",
      "date                                                           14-Feb-18\n",
      "number_of_char                                                        14\n",
      "number_of_words                                                        1\n",
      "word_length                                                          2.8\n",
      "number_of_numbers                                                      0\n",
      "number_of_lowercase                                                    1\n",
      "dtype: object\n",
      "Number of Lowercase (Maximum): number_of_lowercase    6601\n",
      "dtype: int64\n",
      "Number of Lowercase (Average): 339.9935692687705\n"
     ]
    }
   ],
   "source": [
    "fakedata['number_of_lowercase'] = fakedata['text'].apply(lambda x: len([x for x in x.split() if x.islower()]))\n",
    "fakedata[['text','number_of_lowercase']].head()\n",
    "print('Number of Lowercase (Minimum):' + str(np.min(fakedata[fakedata['number_of_lowercase'] > 0])));\n",
    "print('Number of Lowercase (Maximum): ' + str(np.max(fakedata[['number_of_lowercase']])));\n",
    "print('Number of Lowercase (Average): ' + str(np.average(fakedata[['number_of_lowercase']])));"
   ]
  },
  {
   "cell_type": "code",
   "execution_count": 23,
   "metadata": {},
   "outputs": [
    {
     "name": "stdout",
     "output_type": "stream",
     "text": [
      "Number of Uppercase (Minimum):title                  \\r\\r\\r\\r\\r\\r\\r\\nDonald Trump Gets His A** Hand...\n",
      "text                       (Welcome) to America We hope you enjoy our...\n",
      "subject                                                  Government News\n",
      "date                                                           14-Feb-18\n",
      "number_of_char                                                         7\n",
      "number_of_words                                                        2\n",
      "word_length                                                         2.25\n",
      "number_of_numbers                                                      0\n",
      "number_of_lowercase                                                    0\n",
      "non_alp                                                                0\n",
      "number_of_uppercase                                                    1\n",
      "dtype: object\n",
      "Number of Uppercase (Maximum): number_of_uppercase    309\n",
      "dtype: int64\n",
      "Number of Uppercase (Average): 8.915633916783783\n"
     ]
    }
   ],
   "source": [
    "fakedata['number_of_uppercase'] = fakedata['text'].apply(lambda x: len([x for x in x.split() if x.isupper()]))\n",
    "fakedata[['text','number_of_uppercase']].head()\n",
    "print('Number of Uppercase (Minimum):' + str(np.min(fakedata[fakedata['number_of_uppercase'] > 0])));\n",
    "print('Number of Uppercase (Maximum): ' + str(np.max(fakedata[['number_of_uppercase']])));\n",
    "print('Number of Uppercase (Average): ' + str(np.average(fakedata[['number_of_uppercase']])));"
   ]
  },
  {
   "cell_type": "markdown",
   "metadata": {},
   "source": [
    "                                                    Simple Text Preprocessing"
   ]
  },
  {
   "cell_type": "markdown",
   "metadata": {},
   "source": [
    "Transforming text into lower case to remove case sensitiveness,\n",
    "Removing punctuations to reduce dataset (e.g. ;:'\"~\\`,./\\|!@#$%^&*()_ etc),\n",
    "Remove stopwords (e.g. a, an, not, the, but, how, or, what etc),\n",
    "Removing numbers,\n",
    "Removing URLs,\n",
    "Removing HTML Tags,\n",
    "Removing Emojis,\n",
    "Stemming,\n",
    "Lemmatization,"
   ]
  },
  {
   "cell_type": "code",
   "execution_count": 15,
   "metadata": {},
   "outputs": [],
   "source": [
    "lowercased_text = [fakeword.lower() for fakeword in fakedata.text]"
   ]
  },
  {
   "cell_type": "code",
   "execution_count": 17,
   "metadata": {
    "collapsed": true,
    "jupyter": {
     "outputs_hidden": true
    }
   },
   "outputs": [
    {
     "data": {
      "text/html": [
       "<div>\n",
       "<style scoped>\n",
       "    .dataframe tbody tr th:only-of-type {\n",
       "        vertical-align: middle;\n",
       "    }\n",
       "\n",
       "    .dataframe tbody tr th {\n",
       "        vertical-align: top;\n",
       "    }\n",
       "\n",
       "    .dataframe thead th {\n",
       "        text-align: right;\n",
       "    }\n",
       "</style>\n",
       "<table border=\"1\" class=\"dataframe\">\n",
       "  <thead>\n",
       "    <tr style=\"text-align: right;\">\n",
       "      <th></th>\n",
       "      <th>title</th>\n",
       "      <th>text</th>\n",
       "      <th>subject</th>\n",
       "      <th>date</th>\n",
       "      <th>number_of_char</th>\n",
       "      <th>number_of_words</th>\n",
       "      <th>word_length</th>\n",
       "      <th>number_of_numbers</th>\n",
       "      <th>non_alp</th>\n",
       "      <th>number_of_lowercase</th>\n",
       "      <th>number_of_uppercase</th>\n",
       "    </tr>\n",
       "  </thead>\n",
       "  <tbody>\n",
       "    <tr>\n",
       "      <th>0</th>\n",
       "      <td>Donald Trump Sends Out Embarrassing New Year’...</td>\n",
       "      <td>Donald Trump just couldn t wish all Americans ...</td>\n",
       "      <td>News</td>\n",
       "      <td>December 31, 2017</td>\n",
       "      <td>2893</td>\n",
       "      <td>516</td>\n",
       "      <td>4.804040</td>\n",
       "      <td>4</td>\n",
       "      <td>121</td>\n",
       "      <td>347</td>\n",
       "      <td>5</td>\n",
       "    </tr>\n",
       "    <tr>\n",
       "      <th>1</th>\n",
       "      <td>Drunk Bragging Trump Staffer Started Russian ...</td>\n",
       "      <td>House Intelligence Committee Chairman Devin Nu...</td>\n",
       "      <td>News</td>\n",
       "      <td>December 31, 2017</td>\n",
       "      <td>1898</td>\n",
       "      <td>309</td>\n",
       "      <td>5.213115</td>\n",
       "      <td>0</td>\n",
       "      <td>39</td>\n",
       "      <td>225</td>\n",
       "      <td>3</td>\n",
       "    </tr>\n",
       "    <tr>\n",
       "      <th>2</th>\n",
       "      <td>Sheriff David Clarke Becomes An Internet Joke...</td>\n",
       "      <td>On Friday, it was revealed that former Milwauk...</td>\n",
       "      <td>News</td>\n",
       "      <td>December 30, 2017</td>\n",
       "      <td>3597</td>\n",
       "      <td>600</td>\n",
       "      <td>5.168966</td>\n",
       "      <td>0</td>\n",
       "      <td>148</td>\n",
       "      <td>414</td>\n",
       "      <td>42</td>\n",
       "    </tr>\n",
       "    <tr>\n",
       "      <th>3</th>\n",
       "      <td>Trump Is So Obsessed He Even Has Obama’s Name...</td>\n",
       "      <td>On Christmas day, Donald Trump announced that ...</td>\n",
       "      <td>News</td>\n",
       "      <td>December 29, 2017</td>\n",
       "      <td>2774</td>\n",
       "      <td>475</td>\n",
       "      <td>5.180180</td>\n",
       "      <td>5</td>\n",
       "      <td>118</td>\n",
       "      <td>339</td>\n",
       "      <td>5</td>\n",
       "    </tr>\n",
       "    <tr>\n",
       "      <th>4</th>\n",
       "      <td>Pope Francis Just Called Out Donald Trump Dur...</td>\n",
       "      <td>Pope Francis used his annual Christmas Day mes...</td>\n",
       "      <td>News</td>\n",
       "      <td>December 25, 2017</td>\n",
       "      <td>2346</td>\n",
       "      <td>434</td>\n",
       "      <td>4.554762</td>\n",
       "      <td>0</td>\n",
       "      <td>40</td>\n",
       "      <td>358</td>\n",
       "      <td>0</td>\n",
       "    </tr>\n",
       "    <tr>\n",
       "      <th>...</th>\n",
       "      <td>...</td>\n",
       "      <td>...</td>\n",
       "      <td>...</td>\n",
       "      <td>...</td>\n",
       "      <td>...</td>\n",
       "      <td>...</td>\n",
       "      <td>...</td>\n",
       "      <td>...</td>\n",
       "      <td>...</td>\n",
       "      <td>...</td>\n",
       "      <td>...</td>\n",
       "    </tr>\n",
       "    <tr>\n",
       "      <th>23476</th>\n",
       "      <td>McPain: John McCain Furious That Iran Treated ...</td>\n",
       "      <td>21st Century Wire says As 21WIRE reported earl...</td>\n",
       "      <td>Middle-east</td>\n",
       "      <td>January 16, 2016</td>\n",
       "      <td>3237</td>\n",
       "      <td>542</td>\n",
       "      <td>5.164751</td>\n",
       "      <td>3</td>\n",
       "      <td>47</td>\n",
       "      <td>412</td>\n",
       "      <td>19</td>\n",
       "    </tr>\n",
       "    <tr>\n",
       "      <th>23477</th>\n",
       "      <td>JUSTICE? Yahoo Settles E-mail Privacy Class-ac...</td>\n",
       "      <td>21st Century Wire says It s a familiar theme. ...</td>\n",
       "      <td>Middle-east</td>\n",
       "      <td>January 16, 2016</td>\n",
       "      <td>1684</td>\n",
       "      <td>301</td>\n",
       "      <td>4.659933</td>\n",
       "      <td>0</td>\n",
       "      <td>44</td>\n",
       "      <td>246</td>\n",
       "      <td>8</td>\n",
       "    </tr>\n",
       "    <tr>\n",
       "      <th>23478</th>\n",
       "      <td>Sunnistan: US and Allied ‘Safe Zone’ Plan to T...</td>\n",
       "      <td>Patrick Henningsen  21st Century WireRemember ...</td>\n",
       "      <td>Middle-east</td>\n",
       "      <td>January 15, 2016</td>\n",
       "      <td>25065</td>\n",
       "      <td>4343</td>\n",
       "      <td>4.968353</td>\n",
       "      <td>14</td>\n",
       "      <td>534</td>\n",
       "      <td>3418</td>\n",
       "      <td>90</td>\n",
       "    </tr>\n",
       "    <tr>\n",
       "      <th>23479</th>\n",
       "      <td>How to Blow $700 Million: Al Jazeera America F...</td>\n",
       "      <td>21st Century Wire says Al Jazeera America will...</td>\n",
       "      <td>Middle-east</td>\n",
       "      <td>January 14, 2016</td>\n",
       "      <td>2685</td>\n",
       "      <td>476</td>\n",
       "      <td>4.846491</td>\n",
       "      <td>3</td>\n",
       "      <td>70</td>\n",
       "      <td>349</td>\n",
       "      <td>23</td>\n",
       "    </tr>\n",
       "    <tr>\n",
       "      <th>23480</th>\n",
       "      <td>10 U.S. Navy Sailors Held by Iranian Military ...</td>\n",
       "      <td>21st Century Wire says As 21WIRE predicted in ...</td>\n",
       "      <td>Middle-east</td>\n",
       "      <td>January 12, 2016</td>\n",
       "      <td>5251</td>\n",
       "      <td>905</td>\n",
       "      <td>4.973684</td>\n",
       "      <td>5</td>\n",
       "      <td>149</td>\n",
       "      <td>662</td>\n",
       "      <td>40</td>\n",
       "    </tr>\n",
       "  </tbody>\n",
       "</table>\n",
       "<p>23481 rows × 11 columns</p>\n",
       "</div>"
      ],
      "text/plain": [
       "                                                   title  \\\n",
       "0       Donald Trump Sends Out Embarrassing New Year’...   \n",
       "1       Drunk Bragging Trump Staffer Started Russian ...   \n",
       "2       Sheriff David Clarke Becomes An Internet Joke...   \n",
       "3       Trump Is So Obsessed He Even Has Obama’s Name...   \n",
       "4       Pope Francis Just Called Out Donald Trump Dur...   \n",
       "...                                                  ...   \n",
       "23476  McPain: John McCain Furious That Iran Treated ...   \n",
       "23477  JUSTICE? Yahoo Settles E-mail Privacy Class-ac...   \n",
       "23478  Sunnistan: US and Allied ‘Safe Zone’ Plan to T...   \n",
       "23479  How to Blow $700 Million: Al Jazeera America F...   \n",
       "23480  10 U.S. Navy Sailors Held by Iranian Military ...   \n",
       "\n",
       "                                                    text      subject  \\\n",
       "0      Donald Trump just couldn t wish all Americans ...         News   \n",
       "1      House Intelligence Committee Chairman Devin Nu...         News   \n",
       "2      On Friday, it was revealed that former Milwauk...         News   \n",
       "3      On Christmas day, Donald Trump announced that ...         News   \n",
       "4      Pope Francis used his annual Christmas Day mes...         News   \n",
       "...                                                  ...          ...   \n",
       "23476  21st Century Wire says As 21WIRE reported earl...  Middle-east   \n",
       "23477  21st Century Wire says It s a familiar theme. ...  Middle-east   \n",
       "23478  Patrick Henningsen  21st Century WireRemember ...  Middle-east   \n",
       "23479  21st Century Wire says Al Jazeera America will...  Middle-east   \n",
       "23480  21st Century Wire says As 21WIRE predicted in ...  Middle-east   \n",
       "\n",
       "                    date  number_of_char  number_of_words  word_length  \\\n",
       "0      December 31, 2017            2893              516     4.804040   \n",
       "1      December 31, 2017            1898              309     5.213115   \n",
       "2      December 30, 2017            3597              600     5.168966   \n",
       "3      December 29, 2017            2774              475     5.180180   \n",
       "4      December 25, 2017            2346              434     4.554762   \n",
       "...                  ...             ...              ...          ...   \n",
       "23476   January 16, 2016            3237              542     5.164751   \n",
       "23477   January 16, 2016            1684              301     4.659933   \n",
       "23478   January 15, 2016           25065             4343     4.968353   \n",
       "23479   January 14, 2016            2685              476     4.846491   \n",
       "23480   January 12, 2016            5251              905     4.973684   \n",
       "\n",
       "       number_of_numbers  non_alp  number_of_lowercase  number_of_uppercase  \n",
       "0                      4      121                  347                    5  \n",
       "1                      0       39                  225                    3  \n",
       "2                      0      148                  414                   42  \n",
       "3                      5      118                  339                    5  \n",
       "4                      0       40                  358                    0  \n",
       "...                  ...      ...                  ...                  ...  \n",
       "23476                  3       47                  412                   19  \n",
       "23477                  0       44                  246                    8  \n",
       "23478                 14      534                 3418                   90  \n",
       "23479                  3       70                  349                   23  \n",
       "23480                  5      149                  662                   40  \n",
       "\n",
       "[23481 rows x 11 columns]"
      ]
     },
     "execution_count": 17,
     "metadata": {},
     "output_type": "execute_result"
    }
   ],
   "source": [
    "fakedata"
   ]
  },
  {
   "cell_type": "code",
   "execution_count": null,
   "metadata": {},
   "outputs": [],
   "source": []
  }
 ],
 "metadata": {
  "kernelspec": {
   "display_name": "Python 3",
   "language": "python",
   "name": "python3"
  },
  "language_info": {
   "codemirror_mode": {
    "name": "ipython",
    "version": 3
   },
   "file_extension": ".py",
   "mimetype": "text/x-python",
   "name": "python",
   "nbconvert_exporter": "python",
   "pygments_lexer": "ipython3",
   "version": "3.6.10"
  }
 },
 "nbformat": 4,
 "nbformat_minor": 4
}
